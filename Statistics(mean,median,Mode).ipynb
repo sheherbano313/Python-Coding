{
 "cells": [
  {
   "cell_type": "code",
   "execution_count": 1,
   "id": "a811d3a3-389d-48d1-b516-058c1d4c17f8",
   "metadata": {},
   "outputs": [],
   "source": [
    "import numpy as np,statistics as st\n",
    "import matplotlib.pyplot as plt\n"
   ]
  },
  {
   "cell_type": "code",
   "execution_count": 2,
   "id": "49e85a8e-d5b2-41e7-a161-37ccb0ccd459",
   "metadata": {},
   "outputs": [],
   "source": [
    "ages=[23,43,45,32,21,34,54,]"
   ]
  },
  {
   "cell_type": "code",
   "execution_count": 3,
   "id": "c5c7fa6a-e8c9-469f-871f-fe4ea54d5cf2",
   "metadata": {},
   "outputs": [
    {
     "data": {
      "text/plain": [
       "36.0"
      ]
     },
     "execution_count": 3,
     "metadata": {},
     "output_type": "execute_result"
    }
   ],
   "source": [
    "np.mean(ages)"
   ]
  },
  {
   "cell_type": "code",
   "execution_count": 4,
   "id": "e8d7a6f7-5b57-4efa-abae-7f2fc607e85d",
   "metadata": {},
   "outputs": [
    {
     "data": {
      "text/plain": [
       "34.0"
      ]
     },
     "execution_count": 4,
     "metadata": {},
     "output_type": "execute_result"
    }
   ],
   "source": [
    "np.median(ages)"
   ]
  },
  {
   "cell_type": "code",
   "execution_count": 5,
   "id": "b3d12b7c-9eaa-4364-bc02-4cb248d576d1",
   "metadata": {},
   "outputs": [
    {
     "data": {
      "text/plain": [
       "23"
      ]
     },
     "execution_count": 5,
     "metadata": {},
     "output_type": "execute_result"
    }
   ],
   "source": [
    "st.mode(ages)"
   ]
  },
  {
   "cell_type": "code",
   "execution_count": 6,
   "id": "119a082f-3ce5-44be-9152-b31dc62ec7a0",
   "metadata": {},
   "outputs": [],
   "source": [
    "ages=[21,15,20,21,25,26,40,95]\n",
    "st.mode(ages)"
   ]
  },
  {
   "cell_type": "code",
   "execution_count": 12,
   "id": "bd793c73-329d-44d6-bfa4-99b6aa7ee294",
   "metadata": {},
   "outputs": [
    {
     "name": "stdout",
     "output_type": "stream",
     "text": [
      "21\n"
     ]
    }
   ],
   "source": [
    "print(st.mode(ages))"
   ]
  },
  {
   "cell_type": "code",
   "execution_count": 15,
   "id": "221c36ad-1210-481c-a6c8-2b6b21be1e37",
   "metadata": {},
   "outputs": [
    {
     "name": "stdout",
     "output_type": "stream",
     "text": [
      "21\n"
     ]
    }
   ],
   "source": [
    "import statistics as st\n",
    "\n",
    "ages = [21,21,21,15, 20, 25, 26, 40, 95]\n",
    "\n",
    "try:\n",
    "    mode_age = st.mode(ages)\n",
    "    print(mode_age)\n",
    "except st.StatisticsError:\n",
    "    print(\"No mode found\")"
   ]
  },
  {
   "cell_type": "code",
   "execution_count": null,
   "id": "dca7f5c7-3233-4aa5-a2cc-a33ab3d6875c",
   "metadata": {},
   "outputs": [],
   "source": []
  }
 ],
 "metadata": {
  "kernelspec": {
   "display_name": "Python 3 (ipykernel)",
   "language": "python",
   "name": "python3"
  },
  "language_info": {
   "codemirror_mode": {
    "name": "ipython",
    "version": 3
   },
   "file_extension": ".py",
   "mimetype": "text/x-python",
   "name": "python",
   "nbconvert_exporter": "python",
   "pygments_lexer": "ipython3",
   "version": "3.10.9"
  }
 },
 "nbformat": 4,
 "nbformat_minor": 5
}
