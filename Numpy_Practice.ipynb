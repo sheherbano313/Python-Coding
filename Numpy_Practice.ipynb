{
 "cells": [
  {
   "cell_type": "code",
   "execution_count": 1,
   "id": "4cfce270-f4e4-4262-a134-d0b9157189c8",
   "metadata": {},
   "outputs": [
    {
     "name": "stdout",
     "output_type": "stream",
     "text": [
      "[[1 2 3]\n",
      " [4 5 6]\n",
      " [7 8 9]]\n"
     ]
    },
    {
     "data": {
      "text/plain": [
       "numpy.ndarray"
      ]
     },
     "execution_count": 1,
     "metadata": {},
     "output_type": "execute_result"
    }
   ],
   "source": [
    "#Assignment_1\n",
    "import numpy as np\n",
    "array_2d = np.array([[1, 2, 3], [4, 5, 6], [7, 8, 9]])\n",
    "print(array_2d)\n",
    "type(array_2d)\n"
   ]
  },
  {
   "cell_type": "code",
   "execution_count": 2,
   "id": "f88b1240-577b-483a-af65-67b91b441c3c",
   "metadata": {},
   "outputs": [
    {
     "name": "stdout",
     "output_type": "stream",
     "text": [
      "M1 [['' '' '']\n",
      " ['' '' '']]\n",
      "M2 [[False False False]\n",
      " [False False False]]\n"
     ]
    }
   ],
   "source": [
    "#Assignment_2\n",
    "import numpy as np\n",
    "b=np.zeros((2,3),dtype=str)\n",
    "print('M1',b)\n",
    "b1=np.zeros((2,3),dtype=bool)\n",
    "print('M2',b1)"
   ]
  },
  {
   "cell_type": "code",
   "execution_count": 3,
   "id": "2b934b89-3c7b-419d-a5a2-24c21849c4c5",
   "metadata": {},
   "outputs": [
    {
     "name": "stdout",
     "output_type": "stream",
     "text": [
      "[[0.50582928 0.63878744 0.03372736 0.95349617]\n",
      " [0.54033805 0.09343401 0.0708579  0.36931537]\n",
      " [0.88075507 0.22626156 0.68970462 0.3228462 ]\n",
      " [0.08889844 0.7348799  0.13985824 0.76809719]]\n"
     ]
    }
   ],
   "source": [
    "matrix = np.random.rand(4, 4)\n",
    "print(matrix)\n"
   ]
  },
  {
   "cell_type": "code",
   "execution_count": 4,
   "id": "265f0b83-f458-4cc5-93e2-027c222c9de4",
   "metadata": {},
   "outputs": [
    {
     "name": "stdout",
     "output_type": "stream",
     "text": [
      "[ 1  6 11 16 21 26 31 36 41 46 51 56 61 66 71 76 81 86 91 96]\n",
      "[  1.  12.  23.  34.  45.  56.  67.  78.  89. 100.]\n",
      "[[ 1  6 11 16]\n",
      " [21 26 31 36]\n",
      " [41 46 51 56]\n",
      " [61 66 71 76]\n",
      " [81 86 91 96]]\n",
      "[[  1.]\n",
      " [ 12.]\n",
      " [ 23.]\n",
      " [ 34.]\n",
      " [ 45.]\n",
      " [ 56.]\n",
      " [ 67.]\n",
      " [ 78.]\n",
      " [ 89.]\n",
      " [100.]]\n"
     ]
    }
   ],
   "source": [
    "#Lab task 3\n",
    "import numpy as np\n",
    "a= np.arange(1,100,5)\n",
    "print(a)\n",
    "b=np.linspace(1,100,10)\n",
    "print(b)\n",
    "c=a.reshape(5,4)\n",
    "print(c)\n",
    "d=b.reshape(10,1)\n",
    "print(d)"
   ]
  },
  {
   "cell_type": "code",
   "execution_count": 5,
   "id": "18aef8f9-a51e-4b61-9cab-e83d9ebd8b0a",
   "metadata": {},
   "outputs": [
    {
     "name": "stdout",
     "output_type": "stream",
     "text": [
      "[[[1 2 3]\n",
      "  [3 4 5]\n",
      "  [6 7 8]]\n",
      "\n",
      " [[1 2 3]\n",
      "  [3 4 5]\n",
      "  [6 7 8]]]\n",
      "[1 2 3 3 4 5 6 7 8 1 2 3 3 4 5 6 7 8]\n",
      "[1 2 3 3 4 5 6 7 8 1 2 3 3 4 5 6 7 8]\n",
      "[[1. 1. 1. 1. 1. 1.]\n",
      " [1. 1. 1. 1. 1. 1.]\n",
      " [1. 1. 1. 1. 1. 1.]\n",
      " [1. 1. 1. 1. 1. 1.]\n",
      " [1. 1. 1. 1. 1. 1.]\n",
      " [1. 1. 1. 1. 1. 1.]]\n"
     ]
    }
   ],
   "source": [
    "#lab task3\n",
    "x=np.array([[[1,2,3],[3,4,5],[6,7,8]],[[1,2,3],[3,4,5],[6,7,8]]])\n",
    "print(x)\n",
    "print(x.ravel())\n",
    "print(x.flatten())\n",
    "#transpose Function\n",
    "y= np.ones((6,6))\n",
    "print(y)"
   ]
  },
  {
   "cell_type": "code",
   "execution_count": 6,
   "id": "4c473ce6-0cca-42b1-8776-208830137076",
   "metadata": {},
   "outputs": [
    {
     "name": "stdout",
     "output_type": "stream",
     "text": [
      "[[1 2 3]\n",
      " [4 5 6]\n",
      " [7 8 9]]\n",
      "[[11 12 13]\n",
      " [14 15 16]\n",
      " [17 18 19]]\n",
      "[[12 14 16]\n",
      " [18 20 22]\n",
      " [24 26 28]]\n",
      "[[10 10 10]\n",
      " [10 10 10]\n",
      " [10 10 10]]\n",
      "[[ 11  24  39]\n",
      " [ 56  75  96]\n",
      " [119 144 171]]\n",
      "[[11.          6.          4.33333333]\n",
      " [ 3.5         3.          2.66666667]\n",
      " [ 2.42857143  2.25        2.11111111]]\n",
      "[[ 90  96 102]\n",
      " [216 231 246]\n",
      " [342 366 390]]\n",
      "390\n",
      "8\n"
     ]
    }
   ],
   "source": [
    "#lab4\n",
    "import numpy as np\n",
    "a= np.arange(1,10).reshape(3,3)\n",
    "b=np.arange(11,20).reshape(3,3)\n",
    "print(a)\n",
    "print(b)\n",
    "c=np.add(a,b)\n",
    "print(c)\n",
    "d=np.subtract(b,a)\n",
    "print(d)\n",
    "e=np.multiply(a,b)\n",
    "print(e)\n",
    "f=np.divide(b,a)\n",
    "print(f)\n",
    "g=a@b\n",
    "print(g)\n",
    "print(g.max())\n",
    "print(g.argmax())\n"
   ]
  },
  {
   "cell_type": "code",
   "execution_count": 8,
   "id": "8495dbd0-bdf4-4eb1-b0da-7368f2f2adea",
   "metadata": {},
   "outputs": [
    {
     "name": "stdout",
     "output_type": "stream",
     "text": [
      "[[1 2 3]\n",
      " [4 5 6]\n",
      " [7 8 9]]\n",
      "1\n",
      "maximum value from the column [7 8 9]\n",
      "minimum value from the column [1 4 7]\n"
     ]
    }
   ],
   "source": [
    "#Assignmnent4\n",
    "x= np.arange(1,10).reshape(3,3)\n",
    "print(x)\n",
    "min_value = np.min(x)\n",
    "print(min_value)\n",
    "\n",
    "max_row_value = np.max(x,axis=0)\n",
    "print(\"maximum value from the column\", max_row_value)\n",
    "\n",
    "min_col_value = np.min(x,axis=1)\n",
    "print(\"minimum value from the column\",min_col_value)"
   ]
  },
  {
   "cell_type": "code",
   "execution_count": 12,
   "id": "033449d8-19e1-4201-966c-d35465e67f6e",
   "metadata": {},
   "outputs": [
    {
     "name": "stdout",
     "output_type": "stream",
     "text": [
      "[[  1   2   3   4   5   6   7   8   9  10]\n",
      " [ 11  12  13  14  15  16  17  18  19  20]\n",
      " [ 21  22  23  24  25  26  27  28  29  30]\n",
      " [ 31  32  33  34  35  36  37  38  39  40]\n",
      " [ 41  42  43  44  45  46  47  48  49  50]\n",
      " [ 51  52  53  54  55  56  57  58  59  60]\n",
      " [ 61  62  63  64  65  66  67  68  69  70]\n",
      " [ 71  72  73  74  75  76  77  78  79  80]\n",
      " [ 81  82  83  84  85  86  87  88  89  90]\n",
      " [ 91  92  93  94  95  96  97  98  99 100]]\n"
     ]
    }
   ],
   "source": [
    "#lab task 5\n",
    "#array slicing\n",
    "import numpy as np\n",
    "a= np.arange(1,101).reshape(10,10)\n",
    "print(a)"
   ]
  },
  {
   "cell_type": "code",
   "execution_count": 13,
   "id": "c034be6f-9148-499f-bd57-326b71285bdc",
   "metadata": {},
   "outputs": [
    {
     "name": "stdout",
     "output_type": "stream",
     "text": [
      "1\n",
      "100\n",
      "[11 12 13 14 15 16 17 18 19 20]\n",
      "[ 2 12 22 32 42 52 62 72 82 92]\n"
     ]
    }
   ],
   "source": [
    "print(a[0,0])\n",
    "print(a[9,9])\n",
    "print(a[1,:])\n",
    "print(a[:,1])"
   ]
  },
  {
   "cell_type": "code",
   "execution_count": 14,
   "id": "efc27205-bab2-4605-ab1c-4b3b1c7c34fa",
   "metadata": {},
   "outputs": [
    {
     "name": "stdout",
     "output_type": "stream",
     "text": [
      "[[ 1  2  3  4  5]\n",
      " [11 12 13 14 15]\n",
      " [21 22 23 24 25]\n",
      " [31 32 33 34 35]\n",
      " [41 42 43 44 45]\n",
      " [51 52 53 54 55]\n",
      " [61 62 63 64 65]\n",
      " [71 72 73 74 75]\n",
      " [81 82 83 84 85]\n",
      " [91 92 93 94 95]]\n",
      "[[ 56  57  58  59  60]\n",
      " [ 66  67  68  69  70]\n",
      " [ 76  77  78  79  80]\n",
      " [ 86  87  88  89  90]\n",
      " [ 96  97  98  99 100]]\n"
     ]
    }
   ],
   "source": [
    "print(a[:,0:5])\n",
    "print(a[5:10,5:10])"
   ]
  },
  {
   "cell_type": "code",
   "execution_count": 1,
   "id": "0e5bbbd4-404c-4b1e-aacb-252f0d8da28d",
   "metadata": {},
   "outputs": [
    {
     "name": "stdout",
     "output_type": "stream",
     "text": [
      "1\n",
      "5\n",
      "9\n",
      "13\n"
     ]
    }
   ],
   "source": [
    "#class assignment 5\n",
    "#Print the first column of a 4x4 matrix vertically\n",
    "import numpy as np\n",
    "\n",
    "matrix = np.arange(1,17).reshape(4,4)\n",
    "first_column = matrix[:, 0]\n",
    "\n",
    "for value in first_column:\n",
    "    print(value)"
   ]
  },
  {
   "cell_type": "code",
   "execution_count": 2,
   "id": "2b4db213-d3dc-4c1e-99c9-1055d4117483",
   "metadata": {},
   "outputs": [
    {
     "name": "stdout",
     "output_type": "stream",
     "text": [
      "4\n",
      "8\n",
      "12\n",
      "16\n"
     ]
    }
   ],
   "source": [
    "#Print the last column of a 4x4 matrix vertically.\n",
    "a = np.arange(1,17).reshape(4,4)\n",
    "last_column = matrix[:, -1]\n",
    "\n",
    "for value in last_column:\n",
    "    print(value)\n",
    "    \n"
   ]
  },
  {
   "cell_type": "code",
   "execution_count": 3,
   "id": "7a75cc19-a79c-4a57-8c21-618e179cca65",
   "metadata": {},
   "outputs": [
    {
     "name": "stdout",
     "output_type": "stream",
     "text": [
      "[[ 1  2  3  4]\n",
      " [ 5  6  7  8]\n",
      " [ 9 10 11 12]\n",
      " [13 14 15 16]]\n",
      "[2 3]\n",
      "[6 7]\n",
      "[10 11]\n",
      "[14 15]\n"
     ]
    }
   ],
   "source": [
    "#Print second and third column of a matrix.\n",
    "a = np.arange(1,17).reshape(4,4)\n",
    "print(a)\n",
    "b = matrix[:, 1:3]\n",
    "for value in b:\n",
    "    print(value)"
   ]
  },
  {
   "cell_type": "code",
   "execution_count": 4,
   "id": "cd21aa96-a588-4c72-9586-6b4fd6f262c7",
   "metadata": {},
   "outputs": [
    {
     "name": "stdout",
     "output_type": "stream",
     "text": [
      "[[ 1  2  3  4]\n",
      " [ 5  6  7  8]\n",
      " [ 9 10 11 12]\n",
      " [13 14 15 16]]\n",
      "[[17 18 19 20]\n",
      " [21 22 23 24]\n",
      " [25 26 27 28]\n",
      " [29 30 31 32]]\n",
      "[[ 1  2  3  4]\n",
      " [ 5  6  7  8]\n",
      " [ 9 10 11 12]\n",
      " [13 14 15 16]\n",
      " [17 18 19 20]\n",
      " [21 22 23 24]\n",
      " [25 26 27 28]\n",
      " [29 30 31 32]]\n",
      "[[ 1  2  3  4 17 18 19 20]\n",
      " [ 5  6  7  8 21 22 23 24]\n",
      " [ 9 10 11 12 25 26 27 28]\n",
      " [13 14 15 16 29 30 31 32]]\n",
      "[array([[1, 2, 3, 4],\n",
      "       [5, 6, 7, 8]]), array([[ 9, 10, 11, 12],\n",
      "       [13, 14, 15, 16]])]\n"
     ]
    },
    {
     "data": {
      "text/plain": [
       "3"
      ]
     },
     "execution_count": 4,
     "metadata": {},
     "output_type": "execute_result"
    }
   ],
   "source": [
    "#labtask6\n",
    "import numpy as np\n",
    "a1=np.arange(1,17).reshape(4,4)\n",
    "print(a1)\n",
    "a2=np.arange(17, 33).reshape(4,4)\n",
    "print(a2)\n",
    "a3= np.concatenate((a1,a2))\n",
    "print(a3)\n",
    "a4= np.concatenate((a1,a2), axis= 1)\n",
    "print(a4)\n",
    "a=np.split(a1,2)\n",
    "print(a)\n",
    "type(a)\n",
    "np.ndim(a)"
   ]
  },
  {
   "cell_type": "code",
   "execution_count": 5,
   "id": "2172319e-37bc-4434-9a03-66dd268d2527",
   "metadata": {},
   "outputs": [
    {
     "name": "stdout",
     "output_type": "stream",
     "text": [
      "[array([[1],\n",
      "       [2],\n",
      "       [3],\n",
      "       [4],\n",
      "       [5]]), array([[ 6],\n",
      "       [ 7],\n",
      "       [ 8],\n",
      "       [ 9],\n",
      "       [10]])]\n",
      "f [[1]\n",
      " [2]\n",
      " [3]\n",
      " [4]\n",
      " [5]]\n",
      "g [[ 6]\n",
      " [ 7]\n",
      " [ 8]\n",
      " [ 9]\n",
      " [10]]\n"
     ]
    }
   ],
   "source": [
    "#assignment6\n",
    "import numpy as np\n",
    "b1=np.arange(1,11).reshape(10,1)\n",
    "b1\n",
    "b= np.split(b1,2)\n",
    "print(b)\n",
    "print(\"f\",b[0])\n",
    "\n",
    "print(\"g\",b[1])"
   ]
  },
  {
   "cell_type": "code",
   "execution_count": 6,
   "id": "475e45fb-600a-4b4e-b9e1-671d8771efb9",
   "metadata": {},
   "outputs": [
    {
     "data": {
      "image/png": "[encoded data removed]",
      "text/plain": [
       "<Figure size 640x480 with 1 Axes>"
      ]
     },
     "metadata": {},
     "output_type": "display_data"
    }
   ],
   "source": [
    "#assignment_7\n",
    "import numpy as np\n",
    "import matplotlib.pyplot as plt\n",
    "t= np.arange(0,1,0.1)\n",
    "x= np.tan(t)\n",
    "x\n",
    "y=np.cos(x)\n",
    "y\n",
    "plt.plot(x,y)\n",
    "plt.show()"
   ]
  },
  {
   "cell_type": "code",
   "execution_count": 7,
   "id": "4d4d89ff-aaa1-4df9-800a-4e0aeb9628f3",
   "metadata": {},
   "outputs": [
    {
     "name": "stdout",
     "output_type": "stream",
     "text": [
      "[[0.34169372 0.6724429  0.65056543 0.30587418]\n",
      " [0.70683369 0.02424687 0.97291626 0.0372065 ]\n",
      " [0.2647095  0.8394913  0.73202425 0.40927682]\n",
      " [0.30594236 0.90809311 0.82692853 0.07580093]]\n",
      "regNo\n",
      "['56' '23' '45' 'regNo' '34' 'uobs']\n",
      "[[ 0.33985301  0.87273906  0.72784841 -0.37094228]\n",
      " [-1.20121425  0.13351445  0.42685683 -0.41778802]\n",
      " [ 0.87289604  1.29011346 -0.34931766 -0.59870558]\n",
      " [ 0.32113252  1.36315768  1.36390252  1.35993748]]\n"
     ]
    }
   ],
   "source": [
    "#lab_8\n",
    "import numpy as np\n",
    "import random as rand\n",
    "x=np.random.rand(4,4)\n",
    "print(x)\n",
    "list=[23,'uobs',45,'regNo',34,56]\n",
    "y=np.random.choice(list)\n",
    "print(y)\n",
    "z=np.random.permutation(list)\n",
    "print(z)\n",
    "a=np.random.randn(4,4)\n",
    "print(a)"
   ]
  },
  {
   "cell_type": "code",
   "execution_count": 8,
   "id": "6930dc48-7196-47f9-a9c4-b8ef37f47206",
   "metadata": {},
   "outputs": [
    {
     "name": "stdout",
     "output_type": "stream",
     "text": [
      "[[67 56 24 72]\n",
      " [16 30 80 15]\n",
      " [84 87 66 26]]\n"
     ]
    }
   ],
   "source": [
    "b=np.random.randint(1,100,(3,4))\n",
    "print(b)"
   ]
  },
  {
   "cell_type": "code",
   "execution_count": 9,
   "id": "0683d5bb-02e6-4fd6-9b90-c641dad8d3a3",
   "metadata": {},
   "outputs": [
    {
     "name": "stdout",
     "output_type": "stream",
     "text": [
      "Pakistan  \n",
      "Zindabad\n"
     ]
    }
   ],
   "source": [
    "#labAssignment_9\n",
    "import numpy as np\n",
    "a=\"Pakistan  \"\n",
    "print(a)\n",
    "b= \"Zindabad\"\n",
    "print(b)"
   ]
  },
  {
   "cell_type": "code",
   "execution_count": 10,
   "id": "73eb4397-b38a-4ba8-a9b9-cd81bc9ead89",
   "metadata": {},
   "outputs": [
    {
     "name": "stdout",
     "output_type": "stream",
     "text": [
      "Pakistan  Zindabad\n"
     ]
    }
   ],
   "source": [
    "c=np.char.add(a,b)\n",
    "print(c)"
   ]
  },
  {
   "cell_type": "code",
   "execution_count": 11,
   "id": "6eb07cab-e5b6-4e18-bbcd-4306b1892fd7",
   "metadata": {},
   "outputs": [
    {
     "data": {
      "text/plain": [
       "numpy.ndarray"
      ]
     },
     "execution_count": 11,
     "metadata": {},
     "output_type": "execute_result"
    }
   ],
   "source": [
    "type(c)"
   ]
  },
  {
   "cell_type": "code",
   "execution_count": 12,
   "id": "6c941fd4-c2d3-45d3-b6f1-f632c9176d7b",
   "metadata": {},
   "outputs": [
    {
     "data": {
      "text/plain": [
       "array('pakistan  zindabad', dtype='<U18')"
      ]
     },
     "execution_count": 12,
     "metadata": {},
     "output_type": "execute_result"
    }
   ],
   "source": [
    "np.char.lower(c)"
   ]
  },
  {
   "cell_type": "code",
   "execution_count": 13,
   "id": "6c2e25ee-55f7-4c39-990a-4bde9ee7aa9a",
   "metadata": {},
   "outputs": [
    {
     "data": {
      "text/plain": [
       "array('PAKISTAN  ZINDABAD', dtype='<U18')"
      ]
     },
     "execution_count": 13,
     "metadata": {},
     "output_type": "execute_result"
    }
   ],
   "source": [
    "np.char.upper(c)"
   ]
  },
  {
   "cell_type": "code",
   "execution_count": 14,
   "id": "07118b4a-dc54-4ff6-b908-249207340f5d",
   "metadata": {},
   "outputs": [
    {
     "data": {
      "text/plain": [
       "array('Pakistan  Zindabad', dtype='<U18')"
      ]
     },
     "execution_count": 14,
     "metadata": {},
     "output_type": "execute_result"
    }
   ],
   "source": [
    "np.char.title(c)\n"
   ]
  },
  {
   "cell_type": "code",
   "execution_count": 15,
   "id": "079ff7fe-c54a-4b11-9401-f65a113db9be",
   "metadata": {},
   "outputs": [
    {
     "data": {
      "text/plain": [
       "array(list(['Pakistan', 'Zindabad']), dtype=object)"
      ]
     },
     "execution_count": 15,
     "metadata": {},
     "output_type": "execute_result"
    }
   ],
   "source": [
    "np.char.split(c)"
   ]
  },
  {
   "cell_type": "code",
   "execution_count": 16,
   "id": "e8700e5b-823e-46f2-8f7b-46377b3cea84",
   "metadata": {},
   "outputs": [
    {
     "data": {
      "text/plain": [
       "array('   Pakistan  Zindabad  ', dtype='<U23')"
      ]
     },
     "execution_count": 16,
     "metadata": {},
     "output_type": "execute_result"
    }
   ],
   "source": [
    "np.char.center(c,23)"
   ]
  },
  {
   "cell_type": "code",
   "execution_count": 17,
   "id": "388259c4-06b6-492d-902d-f4c842a8a247",
   "metadata": {},
   "outputs": [
    {
     "data": {
      "text/plain": [
       "array('   Pakistan  Zindabad  ', dtype='<U23')"
      ]
     },
     "execution_count": 17,
     "metadata": {},
     "output_type": "execute_result"
    }
   ],
   "source": [
    "np.char.center(c,23)"
   ]
  },
  {
   "cell_type": "code",
   "execution_count": 18,
   "id": "5d4e3257-dd0e-4026-943a-5458a21c889a",
   "metadata": {},
   "outputs": [
    {
     "data": {
      "text/plain": [
       "array('********Pakistan  Zindabad*******', dtype='<U33')"
      ]
     },
     "execution_count": 18,
     "metadata": {},
     "output_type": "execute_result"
    }
   ],
   "source": [
    "np.char.center(c,33, fillchar=\"*\")"
   ]
  },
  {
   "cell_type": "code",
   "execution_count": 19,
   "id": "824cd27f-fa9e-497d-9d12-5026c2e7698e",
   "metadata": {},
   "outputs": [
    {
     "data": {
      "text/plain": [
       "array(list(['pak', 'istan', 'zinda', 'bad']), dtype=object)"
      ]
     },
     "execution_count": 19,
     "metadata": {},
     "output_type": "execute_result"
    }
   ],
   "source": [
    "np.char.splitlines(\"pak\\nistan\\nzinda\\nbad\")"
   ]
  },
  {
   "cell_type": "code",
   "execution_count": 20,
   "id": "a75a557b-4b77-4241-a764-a49f27629b34",
   "metadata": {},
   "outputs": [
    {
     "data": {
      "text/plain": [
       "array(['A.s.s.i.g.n.m.e.n.t'], dtype='<U19')"
      ]
     },
     "execution_count": 20,
     "metadata": {},
     "output_type": "execute_result"
    }
   ],
   "source": [
    "str=\"Assignment\"\n",
    "np.char.join([\".\"],[str])"
   ]
  },
  {
   "cell_type": "code",
   "execution_count": 21,
   "id": "42b85cc9-f75a-44c1-8351-90cb5581202a",
   "metadata": {},
   "outputs": [
    {
     "data": {
      "text/plain": [
       "array('AssignmentTask', dtype='<U14')"
      ]
     },
     "execution_count": 21,
     "metadata": {},
     "output_type": "execute_result"
    }
   ],
   "source": [
    "a=\"LabTask\"\n",
    "np.char.replace(a,\"Lab\",'Assignment')"
   ]
  },
  {
   "cell_type": "code",
   "execution_count": 22,
   "id": "2835ddd0-d12a-4f7c-80a4-18cb9833f63f",
   "metadata": {},
   "outputs": [
    {
     "data": {
      "text/plain": [
       "array(True)"
      ]
     },
     "execution_count": 22,
     "metadata": {},
     "output_type": "execute_result"
    }
   ],
   "source": [
    "str=\"LabTask\"\n",
    "np.char.equal(str,a)"
   ]
  },
  {
   "cell_type": "code",
   "execution_count": 23,
   "id": "52071751-30cc-48a6-bede-5be3fdd3b0d1",
   "metadata": {},
   "outputs": [
    {
     "name": "stdout",
     "output_type": "stream",
     "text": [
      "-1\n",
      "0\n"
     ]
    }
   ],
   "source": [
    "str=\"LabTask\"\n",
    "p=np.char.find(str,'c')\n",
    "print(p)\n",
    "q=np.char.find(str,'L')\n",
    "print(q)"
   ]
  },
  {
   "cell_type": "code",
   "execution_count": 24,
   "id": "7f84909f-b0b9-4010-967e-b36695088e6b",
   "metadata": {},
   "outputs": [
    {
     "name": "stdout",
     "output_type": "stream",
     "text": [
      "0\n",
      "1\n"
     ]
    }
   ],
   "source": [
    "p=np.char.count(str,'c')\n",
    "print(p)\n",
    "q=np.char.count(str,'L')\n",
    "print(q)"
   ]
  },
  {
   "cell_type": "code",
   "execution_count": null,
   "id": "0b134cd8-0713-4755-8de9-24f37f43cced",
   "metadata": {},
   "outputs": [],
   "source": []
  }
 ],
 "metadata": {
  "kernelspec": {
   "display_name": "Python 3 (ipykernel)",
   "language": "python",
   "name": "python3"
  },
  "language_info": {
   "codemirror_mode": {
    "name": "ipython",
    "version": 3
   },
   "file_extension": ".py",
   "mimetype": "text/x-python",
   "name": "python",
   "nbconvert_exporter": "python",
   "pygments_lexer": "ipython3",
   "version": "3.10.9"
  }
 },
 "nbformat": 4,
 "nbformat_minor": 5
}
