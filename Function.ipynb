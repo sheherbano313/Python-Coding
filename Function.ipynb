{
 "cells": [
  {
   "cell_type": "code",
   "execution_count": 2,
   "id": "07668249-662a-434b-99be-7aee9329aa07",
   "metadata": {},
   "outputs": [
    {
     "name": "stdout",
     "output_type": "stream",
     "text": [
      "Welcome to my Function Practice code\n"
     ]
    }
   ],
   "source": [
    "#function fisrt practice\n",
    "def my_function():\n",
    "    print(\"Welcome to my Function Practice code\")\n",
    "my_function()"
   ]
  },
  {
   "cell_type": "code",
   "execution_count": 7,
   "id": "c3e4d198-27b8-4fe2-8abd-73012148d5f9",
   "metadata": {},
   "outputs": [
    {
     "name": "stdout",
     "output_type": "stream",
     "text": [
      "the sum of two number is: 9\n"
     ]
    }
   ],
   "source": [
    "def add(a,b):\n",
    "    sum=a+b\n",
    "    return sum\n",
    "# add(9,6)\n",
    "print(\"the sum of two number is:\",add(4,5))"
   ]
  },
  {
   "cell_type": "code",
   "execution_count": 11,
   "id": "c67e2c44-b48f-4e0f-8733-5e86e242a5a5",
   "metadata": {},
   "outputs": [
    {
     "name": "stdout",
     "output_type": "stream",
     "text": [
      "Banana\n",
      "Apple\n",
      "Orange\n",
      "Mango\n"
     ]
    }
   ],
   "source": [
    "# function looping\n",
    "def myFunction(food):\n",
    "    for x in food:\n",
    "        print(x)\n",
    "fruits= [\"Banana\",\"Apple\",\"Orange\",\"Mango\"]\n",
    "myFunction(fruits)\n",
    "    "
   ]
  },
  {
   "cell_type": "code",
   "execution_count": 13,
   "id": "b3d8b6bb-5331-4662-a240-6300649912ca",
   "metadata": {},
   "outputs": [
    {
     "name": "stdout",
     "output_type": "stream",
     "text": [
      "10\n",
      "20\n"
     ]
    },
    {
     "data": {
      "text/plain": [
       "25"
      ]
     },
     "execution_count": 13,
     "metadata": {},
     "output_type": "execute_result"
    }
   ],
   "source": [
    "def newFunction(x):\n",
    "    return x*5\n",
    "print(newFunction(2))\n",
    "print(newFunction(4))\n",
    "newFunction(5)"
   ]
  },
  {
   "cell_type": "code",
   "execution_count": 1,
   "id": "ffe967c4-68f3-40a7-8bcc-acee00a6d381",
   "metadata": {},
   "outputs": [
    {
     "name": "stdout",
     "output_type": "stream",
     "text": [
      "p\n"
     ]
    }
   ],
   "source": [
    "my_str = \"python.Code\"\n",
    "print(my_str[-0])"
   ]
  },
  {
   "cell_type": "code",
   "execution_count": 9,
   "id": "7d74df83-6978-4599-a59d-a4c47865d801",
   "metadata": {},
   "outputs": [
    {
     "name": "stdout",
     "output_type": "stream",
     "text": [
      "True\n",
      "False\n"
     ]
    }
   ],
   "source": [
    "#palindrom\n",
    "def is_palindrom(word):\n",
    "    \"\"\"Parameters:\n",
    "    word(str): input string\n",
    "    return:\n",
    "    bool: True if the string is palindrom.False otherwise\"\"\"\n",
    "    reversed_word=word[::-1]\n",
    "    return word==reversed_word\n",
    "output = is_palindrom(\"noon\")\n",
    "output1 = is_palindrom(\"Afternoon\")\n",
    "print(output)\n",
    "print(output1)"
   ]
  },
  {
   "cell_type": "code",
   "execution_count": null,
   "id": "9633ed0d-5b4e-4bf6-b824-5fbce5f89f03",
   "metadata": {},
   "outputs": [],
   "source": []
  }
 ],
 "metadata": {
  "kernelspec": {
   "display_name": "Python 3 (ipykernel)",
   "language": "python",
   "name": "python3"
  },
  "language_info": {
   "codemirror_mode": {
    "name": "ipython",
    "version": 3
   },
   "file_extension": ".py",
   "mimetype": "text/x-python",
   "name": "python",
   "nbconvert_exporter": "python",
   "pygments_lexer": "ipython3",
   "version": "3.10.9"
  }
 },
 "nbformat": 4,
 "nbformat_minor": 5
}
