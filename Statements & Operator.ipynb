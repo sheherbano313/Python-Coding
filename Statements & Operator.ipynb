{
 "cells": [
  {
   "cell_type": "code",
   "execution_count": 1,
   "id": "26c0d73a-26dd-488c-8dca-e6aea674c5dd",
   "metadata": {},
   "outputs": [
    {
     "name": "stdout",
     "output_type": "stream",
     "text": [
      "b is greater than a\n"
     ]
    }
   ],
   "source": [
    "#if Condition\n",
    "a=90\n",
    "b=98\n",
    "if b>a:\n",
    "    print(\"b is greater than a\")"
   ]
  },
  {
   "cell_type": "code",
   "execution_count": 3,
   "id": "c198bd94-f5c6-4b8a-b585-4d9e2c7fab52",
   "metadata": {},
   "outputs": [
    {
     "name": "stdout",
     "output_type": "stream",
     "text": [
      "b is Greater than a\n"
     ]
    }
   ],
   "source": [
    "#else Condition\n",
    "a=90\n",
    "b=98\n",
    "if b<a:\n",
    "    print(\"a is greater than b\")\n",
    "else:\n",
    "    print(\"b is Greater than a\")\n",
    "    "
   ]
  },
  {
   "cell_type": "code",
   "execution_count": 8,
   "id": "fdbe240d-fdc7-4fb3-aded-c620e4ab0b76",
   "metadata": {},
   "outputs": [
    {
     "name": "stdout",
     "output_type": "stream",
     "text": [
      " a is equal to b\n"
     ]
    }
   ],
   "source": [
    "#elif condition\n",
    "a=10\n",
    "b=10\n",
    "if b<a:\n",
    "    print(\"a is greater than b\")\n",
    "elif a>b:\n",
    "    print(\"b is Greater than a\")\n",
    "elif a==b:\n",
    "    print(\" a is equal to b\")\n",
    "else:\n",
    "   print (\"invalid\")"
   ]
  },
  {
   "cell_type": "code",
   "execution_count": 12,
   "id": "6ca47ee8-dc5f-4d1b-8900-28150c964095",
   "metadata": {},
   "outputs": [
    {
     "name": "stdout",
     "output_type": "stream",
     "text": [
      "Must true the both condition\n"
     ]
    }
   ],
   "source": [
    "#Operators\n",
    "#And Operator\n",
    "a=90\n",
    "b=65\n",
    "c=676\n",
    "if c>b and c>a:\n",
    "    print(\"Must true the both condition\")"
   ]
  },
  {
   "cell_type": "code",
   "execution_count": 13,
   "id": "75f6ad7f-a84f-4121-a748-ebbccc288c0c",
   "metadata": {},
   "outputs": [
    {
     "name": "stdout",
     "output_type": "stream",
     "text": [
      "OR operator Atleast one condtion is true \n"
     ]
    }
   ],
   "source": [
    "#Operators\n",
    "#And Operator\n",
    "a=90\n",
    "b=65\n",
    "c=676\n",
    "if c>b or a>c:\n",
    "    print(\"IN OR operator Atleast one condtion is true \")"
   ]
  },
  {
   "cell_type": "code",
   "execution_count": 14,
   "id": "077c1bc5-fee0-431c-a827-4c71bfda3b9e",
   "metadata": {},
   "outputs": [
    {
     "name": "stdout",
     "output_type": "stream",
     "text": [
      "b is greater than a\n"
     ]
    }
   ],
   "source": [
    "a=33\n",
    "b=78\n",
    "if not a>b:\n",
    "    print(\"b is greater than a\")"
   ]
  },
  {
   "cell_type": "code",
   "execution_count": null,
   "id": "4c336194-31f3-489c-8b03-e4c4c8f35067",
   "metadata": {},
   "outputs": [],
   "source": []
  }
 ],
 "metadata": {
  "kernelspec": {
   "display_name": "Python 3 (ipykernel)",
   "language": "python",
   "name": "python3"
  },
  "language_info": {
   "codemirror_mode": {
    "name": "ipython",
    "version": 3
   },
   "file_extension": ".py",
   "mimetype": "text/x-python",
   "name": "python",
   "nbconvert_exporter": "python",
   "pygments_lexer": "ipython3",
   "version": "3.10.9"
  }
 },
 "nbformat": 4,
 "nbformat_minor": 5
}
